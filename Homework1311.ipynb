{
 "cells": [
  {
   "cell_type": "code",
   "execution_count": 73,
   "metadata": {},
   "outputs": [
    {
     "name": "stdout",
     "output_type": "stream",
     "text": [
      "Фраза 1 длиннее фразы 2\n"
     ]
    }
   ],
   "source": [
    "#задание1\n",
    "phrase_1 = 'как мы мне избавиться от вредной привычки'\n",
    "phrase_2 = 'сигареты есть, но кончились все спички'\n",
    "\n",
    "if len(phrase_1)<len(phrase_2): print('Фраза 2 длиннее фразы 1')\n",
    "elif len(phrase_1)>len(phrase_2): print('Фраза 1 длиннее фразы 2')\n",
    "else: print('Фразы равной длины')\n"
   ]
  },
  {
   "cell_type": "code",
   "execution_count": 8,
   "metadata": {},
   "outputs": [
    {
     "name": "stdout",
     "output_type": "stream",
     "text": [
      "обычный год\n"
     ]
    }
   ],
   "source": [
    "#задание2\n",
    "year=2019\n",
    "if year%4==0: print('високосный год')\n",
    "else: print('обычный год')"
   ]
  },
  {
   "cell_type": "code",
   "execution_count": null,
   "metadata": {},
   "outputs": [],
   "source": [
    "#задание3\n",
    "user_birth_d = int(input('Введите день '))\n",
    "user_birth_m = str(input('Введите месяц '))\n",
    "\n",
    "if user_birth_m not in ('январь', 'февраль','март','апрель', 'май','июнь','июль','август','сентябрь','октябрь',\n",
    "                       'ноябрь','декарь') : print('error in months name')\n",
    "elif user_birth_d>31 or user_birth_d<0: print('error in day')\n",
    "else: \n",
    "    print('ваш знак зодиака ')\n",
    "    if (user_birth_m=='март' and user_birth_d>=21) or (user_birth_m=='апрель' and user_birth_d<=20): print('овен')\n",
    "    elif (user_birth_m=='апрель' and user_birth_d>=21) or (user_birth_m=='май' and user_birth_d<=21): print('телец')\n",
    "    elif (user_birth_m=='май' and user_birth_d>=22) or (user_birth_m=='июнь' and user_birth_d<=21): print('близнецы')\n",
    "    elif (user_birth_m=='июнь' and user_birth_d>=22) or (user_birth_m=='июль' and user_birth_d<=22): print('рак')\n",
    "    elif (user_birth_m=='июль' and user_birth_d>=23) or (user_birth_m=='август' and user_birth_d<=21): print('лев')\n",
    "    elif (user_birth_m=='август' and user_birth_d>=22) or (user_birth_m=='сентябрь' and user_birth_d<=23): print('дева')\n",
    "    elif (user_birth_m=='сентябрь' and user_birth_d>=24) or (user_birth_m=='октябрь' and user_birth_d<=23): print('весы')\n",
    "    elif (user_birth_m=='октябрь' and user_birth_d>=24) or (user_birth_m=='ноябрь' and user_birth_d<=22): print('скорпион')\n",
    "    elif (user_birth_m=='ноябрь' and user_birth_d>=23) or (user_birth_m=='декабрь' and user_birth_d<=22): print('стрелец')\n",
    "    elif (user_birth_m=='декабрь' and user_birth_d>=23) or (user_birth_m=='январь' and user_birth_d<=20): print('козерог')\n",
    "    elif (user_birth_m=='январь' and user_birth_d>=21) or (user_birth_m=='февраль' and user_birth_d<=19): print('водолей')\n",
    "    elif (user_birth_m=='февраль' and user_birth_d>=20) or (user_birth_m=='март' and user_birth_d<=20): print('рыбы')\n",
    "    else:print('error')"
   ]
  },
  {
   "cell_type": "code",
   "execution_count": null,
   "metadata": {},
   "outputs": [],
   "source": [
    "#задание 4\n",
    "width = 10\n",
    "length = 55\n",
    "height = 56\n",
    "if width<15 and length<15 and height<15: print('Коробка №1') \n",
    "elif (width>=15 and width<50) or (length>=15 and length<50) or (height>=15 and height<50): print('Коробка №2')\n",
    "elif length >200: print('Упаковка для лыж')\n",
    "else : print('Стандартная коробка №3')"
   ]
  },
  {
   "cell_type": "code",
   "execution_count": null,
   "metadata": {},
   "outputs": [],
   "source": [
    "#задание 5\n",
    "number = 145541\n",
    "n_1=number//100000\n",
    "n_2=(number-n_1*100000)//10000\n",
    "n_3=(number-n_1*100000-n_2*10000)//1000\n",
    "n_4=(number-n_1*100000-n_2*10000-n_3*1000)//100\n",
    "n_5=(number-n_1*100000-n_2*10000-n_3*1000-n_4*100)//10\n",
    "n_6=(number-n_1*100000-n_2*10000-n_3*1000-n_4*100-n_5*10)\n",
    "#print(n_1,n_2,n_3,n_4,n_5,n_6)\n",
    "if n_1+n_2+n_3==n_4+n_5+n_6: print('Счастливый билет')\n",
    "else: print ('Несчастливый билет')"
   ]
  },
  {
   "cell_type": "code",
   "execution_count": 78,
   "metadata": {},
   "outputs": [
    {
     "name": "stdout",
     "output_type": "stream",
     "text": [
      "Введите тип фигуры числом: 1=круг 2=треугольник 3=прямоугольник 2\n",
      "Введите длину стороны А: 3322\n",
      "Введите длину стороны B: 245.55\n",
      "Введите длину стороны C: 2764.3355\n",
      "Такого треугольника не существует\n"
     ]
    }
   ],
   "source": [
    "# задание 6\n",
    "import math\n",
    "S=0\n",
    "type_ = int(input('Введите тип фигуры числом: 1=круг 2=треугольник 3=прямоугольник '))\n",
    "if type_ not in (1, 2, 3):print('Тип фигуры не определен')\n",
    "if type_==1 : \n",
    "        R = float(input('Введите радиус: '))\n",
    "        if R>0: \n",
    "            S = round(R**2 *math.pi,2)\n",
    "        else: print('Такого круга не существует')\n",
    "if type_==2 :\n",
    "        A= float(input('Введите длину стороны А: '))\n",
    "        B= float(input('Введите длину стороны B: '))\n",
    "        C= float(input('Введите длину стороны C: '))\n",
    "        if (A>0 and B>0 and C>0 and A+B>C and A+C>B and B+C>A):\n",
    "            p=(A+B+C)/2\n",
    "            S= round((p*(p-A)*(p-B)*(p-C))**0.5,2)\n",
    "        else: print('Такого треугольника не существует')\n",
    "if type_==3 :\n",
    "        A= float(input('Введите длину стороны А: '))\n",
    "        B= float(input('Введите длину стороны B: '))\n",
    "        if (A>0 and B>0):\n",
    "            S=round(A*B,2)\n",
    "if S>0: print('Площадь = ', S)"
   ]
  }
 ],
 "metadata": {
  "kernelspec": {
   "display_name": "Python 3",
   "language": "python",
   "name": "python3"
  },
  "language_info": {
   "codemirror_mode": {
    "name": "ipython",
    "version": 3
   },
   "file_extension": ".py",
   "mimetype": "text/x-python",
   "name": "python",
   "nbconvert_exporter": "python",
   "pygments_lexer": "ipython3",
   "version": "3.8.3"
  }
 },
 "nbformat": 4,
 "nbformat_minor": 4
}
